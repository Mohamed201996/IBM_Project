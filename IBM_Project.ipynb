{
 "cells": [
  {
   "cell_type": "markdown",
   "id": "20848965",
   "metadata": {},
   "source": [
    "# My Jupyter Notebook on IBM Watson Studio"
   ]
  },
  {
   "cell_type": "markdown",
   "id": "a951a2c0",
   "metadata": {},
   "source": [
    "**Mohamed Soliman** \n","Data Analyst "
   ]
  },
  {
   "cell_type": "markdown",
   "id": "d8d2df18",
   "metadata": {},
   "source": [
    "*I'm Working as a Data Analyst but, I am interested in data science because I love it so much.*"
   ]
  },
  {
   "cell_type": "markdown",
   "id": "7415f6a3",
   "metadata": {},
   "source": [
    "### The Following code is for multiplying two numbers.  "
   ]
  },
  {
   "cell_type": "code",
   "execution_count": 1,
   "id": "6dfab87b",
   "metadata": {},
   "outputs": [
    {
     "name": "stdout",
     "output_type": "stream",
     "text": [
      "Simple calculator : \n",
      "please select number_1 : \n",
      "\n",
      "1\n",
      "please select number_2 : \n",
      "\n",
      "5\n",
      "The answer is 5.0\n"
     ]
    }
   ],
   "source": [
    "print(\"Simple calculator : \")\n",
    "\n",
    "print(f\"please select number_1 : \\n\")\n",
    "number_1 = input()\n",
    "number_1 = float(number_1)\n",
    "print(f\"please select number_2 : \\n\")\n",
    "number_2 = input()\n",
    "number_2 = float(number_2)\n",
    "print(f\"The answer is {number_1 * number_2}\")"
   ]
  },
  {
   "cell_type": "markdown",
   "id": "3d5feb1c",
   "metadata": {},
   "source": [
    "Cell (6)\n",
    "\n",
    "i- The dotted and number list:\n",
    "* A\n",
    "* B\n",
    "   1. Boy\n",
    "   2. Ball\n",
    "   3. Back\n",
    "   4. Bread\n",
    "  \n",
    "* C  \n",
    "* E\n",
    "* F\n",
    "\n",
    "**************************************************\n",
    "ii - hyperlinks\n",
    " * [IBM website](https://www.ibm.com/eg-en)\n",
    " * [Google Homepage](https://www.google.com)\n",
    " \n",
    "**************************************************\n",
    "iii- Table \n",
    "\n",
    "|Continent| |Country| |Curency|\n",
    "|----| |----| |----|\n",
    "|Africa||Egypt||Egyption Pound|\n",
    "|Amitica||Canada||Canadian Dollar|\n",
    "|Europ||Italy||Euro|"
   ]
  },
  {
   "cell_type": "code",
   "execution_count": null,
   "id": "6ad637cb",
   "metadata": {},
   "outputs": [],
   "source": []
  }
 ],
 "metadata": {
  "kernelspec": {
   "display_name": "Python 3 (ipykernel)",
   "language": "python",
   "name": "python3"
  },
  "language_info": {
   "codemirror_mode": {
    "name": "ipython",
    "version": 3
   },
   "file_extension": ".py",
   "mimetype": "text/x-python",
   "name": "python",
   "nbconvert_exporter": "python",
   "pygments_lexer": "ipython3",
   "version": "3.9.7"
  }
 },
 "nbformat": 4,
 "nbformat_minor": 5
}
